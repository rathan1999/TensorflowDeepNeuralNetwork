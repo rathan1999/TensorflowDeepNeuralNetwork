{
 "cells": [
  {
   "cell_type": "code",
   "execution_count": 1,
   "metadata": {},
   "outputs": [],
   "source": [
    "import tensorflow as tf\n",
    "import numpy as np\n",
    "import pandas as pd\n",
    "import matplotlib.pyplot as plt\n",
    "from sklearn.metrics import accuracy_score, classification_report"
   ]
  },
  {
   "cell_type": "code",
   "execution_count": 2,
   "metadata": {},
   "outputs": [],
   "source": [
    "Data=pd.read_csv(\"C:\\\\Users\\\\Sai Rathan\\\\Desktop\\\\Data.csv\")\n",
    "Data['class'].replace(['STAR','GALAXY','QSO'],[0,1,2],inplace=True)\n",
    "Data=Data.drop(columns=['objid','rerun','field','camcol','fiberid'])#less correlated\n",
    "Data_X=Data.drop(columns=['class'])\n",
    "mean=Data_X.mean()\n",
    "var=Data_X.max()-Data_X.min()\n",
    "Data_train=Data.sample(frac=0.8,random_state=200)\n",
    "Data_test=Data.drop(Data_train.index)\n",
    "Ytrain=np.array(Data_train['class']).reshape(Data_train.shape[0],1)\n",
    "Ytrain=np.array(pd.DataFrame(Ytrain==[0,1,2]).replace([True,False],[1.0,0.0]))\n",
    "Xtrain=np.array((Data_train.drop(columns=['class'])-mean)/var)\n",
    "Ytest=np.array(Data_test['class']).reshape(Data_test.shape[0],1)\n",
    "Ytest=np.array(pd.DataFrame(Ytest==[0,1,2]).replace([True,False],[1.0,0.0]))\n",
    "Xtest=np.array((Data_test.drop(columns=['class'])-mean)/var)"
   ]
  },
  {
   "cell_type": "code",
   "execution_count": 3,
   "metadata": {},
   "outputs": [],
   "source": [
    "L=5\n",
    "nL=[Xtrain.shape[1],5,5,5,3]\n",
    "W=[]\n",
    "b=[]\n",
    "A=[tf.placeholder(tf.float64,shape=Xtrain.shape,name='X')]\n",
    "Atest=[tf.placeholder(tf.float64,shape=Xtest.shape,name='Xtest')]\n",
    "Z=[0]\n",
    "Ztest=[0]\n",
    "Y=tf.placeholder(tf.float64,shape=Ytrain.shape,name='Y')\n",
    "YTest=tf.placeholder(tf.float64,shape=Ytest.shape,name='Ytest')\n",
    "for i in range(1,L):\n",
    "    W.append(tf.Variable(np.random.randn(nL[i-1],nL[i])*np.sqrt(2/nL[i-1]),dtype=tf.float64))\n",
    "    b.append(tf.Variable(np.random.randn(1,nL[i])*np.sqrt(2/nL[i-1]),dtype=tf.float64))\n",
    "    Z.append(tf.matmul(A[-1],W[-1])+b[-1])\n",
    "    Ztest.append(tf.matmul(Atest[-1],W[-1])+b[-1])\n",
    "    A.append(tf.tanh(Z[-1]) if i<L-1 else tf.nn.softmax(Z[-1]))\n",
    "    Atest.append(tf.tanh(Ztest[-1]) if i<L-1 else tf.nn.softmax(Ztest[-1]))\n",
    "cost=-1*tf.reduce_mean(Y*tf.log(A[-1]))\n",
    "cost2=-1*tf.reduce_mean(YTest*tf.log(Atest[-1]))\n",
    "train=tf.train.AdamOptimizer(0.001).minimize(cost)"
   ]
  },
  {
   "cell_type": "code",
   "execution_count": 4,
   "metadata": {},
   "outputs": [],
   "source": [
    "sess=tf.Session()\n",
    "sess.run(tf.global_variables_initializer())"
   ]
  },
  {
   "cell_type": "code",
   "execution_count": 5,
   "metadata": {},
   "outputs": [
    {
     "name": "stdout",
     "output_type": "stream",
     "text": [
      "0 0.4768211059681651\n",
      "500 0.12191879001564039\n",
      "1000 0.0717768872057577\n",
      "1500 0.045349485496278895\n",
      "2000 0.03661961068068489\n",
      "2500 0.03217325240249558\n",
      "3000 0.028751936235100355\n",
      "3500 0.026141895263693073\n",
      "4000 0.02327807457070728\n",
      "4500 0.018787996904777497\n",
      "5000 0.014724809747515073\n",
      "5500 0.013156247331523933\n",
      "6000 0.01212831138770574\n",
      "6500 0.011384946326038217\n",
      "7000 0.010856532781218559\n",
      "7500 0.01048413150021547\n",
      "8000 0.010228315674817055\n",
      "8500 0.010048138280212077\n",
      "9000 0.009893527579427311\n",
      "9500 0.009739192954448635\n"
     ]
    }
   ],
   "source": [
    "J=[]\n",
    "for i in range(10000):\n",
    "    sess.run(train,feed_dict={A[0]:Xtrain,Y:Ytrain})\n",
    "    J.append(sess.run(cost,feed_dict={A[0]:Xtrain,Y:Ytrain}))\n",
    "    if i%500==0:\n",
    "        print(i,J[-1])\n"
   ]
  },
  {
   "cell_type": "code",
   "execution_count": 6,
   "metadata": {},
   "outputs": [
    {
     "data": {
      "image/png": "[encoded data removed]",
      "text/plain": [
       "<Figure size 432x288 with 1 Axes>"
      ]
     },
     "metadata": {},
     "output_type": "display_data"
    }
   ],
   "source": [
    "plt.plot(np.array(J))\n",
    "plt.show()"
   ]
  },
  {
   "cell_type": "code",
   "execution_count": 7,
   "metadata": {},
   "outputs": [],
   "source": [
    "predTrain=np.round(sess.run(A[-1],feed_dict={A[0]:Xtrain}),decimals=0)\n",
    "predTest=np.round(sess.run(Atest[-1],feed_dict={Atest[0]:Xtest}),decimals=0)"
   ]
  },
  {
   "cell_type": "code",
   "execution_count": 8,
   "metadata": {},
   "outputs": [
    {
     "name": "stdout",
     "output_type": "stream",
     "text": [
      "Training:\n",
      " 0.9935\n",
      "             precision    recall  f1-score   support\n",
      "\n",
      "          0       0.99      1.00      1.00      3334\n",
      "          1       0.99      0.99      0.99      3980\n",
      "          2       0.99      0.97      0.98       686\n",
      "\n",
      "avg / total       0.99      0.99      0.99      8000\n",
      "\n"
     ]
    }
   ],
   "source": [
    "print(\"Training:\\n\",accuracy_score(Ytrain,predTrain))\n",
    "print(classification_report(Ytrain,predTrain))"
   ]
  },
  {
   "cell_type": "code",
   "execution_count": 9,
   "metadata": {},
   "outputs": [
    {
     "name": "stdout",
     "output_type": "stream",
     "text": [
      "Test:\n",
      " 0.991\n",
      "             precision    recall  f1-score   support\n",
      "\n",
      "          0       0.99      1.00      0.99       818\n",
      "          1       1.00      0.99      0.99      1018\n",
      "          2       0.97      0.97      0.97       164\n",
      "\n",
      "avg / total       0.99      0.99      0.99      2000\n",
      "\n"
     ]
    }
   ],
   "source": [
    "print(\"Test:\\n\",accuracy_score(Ytest,predTest))\n",
    "print(classification_report(Ytest,predTest))"
   ]
  },
  {
   "cell_type": "code",
   "execution_count": null,
   "metadata": {},
   "outputs": [],
   "source": []
  }
 ],
 "metadata": {
  "kernelspec": {
   "display_name": "Python 3",
   "language": "python",
   "name": "python3"
  },
  "language_info": {
   "codemirror_mode": {
    "name": "ipython",
    "version": 3
   },
   "file_extension": ".py",
   "mimetype": "text/x-python",
   "name": "python",
   "nbconvert_exporter": "python",
   "pygments_lexer": "ipython3",
   "version": "3.6.5"
  }
 },
 "nbformat": 4,
 "nbformat_minor": 2
}
